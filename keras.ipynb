{
 "cells": [
  {
   "cell_type": "code",
   "execution_count": 1,
   "metadata": {},
   "outputs": [
    {
     "name": "stderr",
     "output_type": "stream",
     "text": [
      "Using TensorFlow backend.\n"
     ]
    }
   ],
   "source": [
    "import glob\n",
    "import keras\n",
    "import numpy as np\n",
    "from PIL import Image\n",
    "import matplotlib.pyplot as plt\n",
    "from keras.models import Model, Sequential\n",
    "from keras.layers import Dense, Input, Conv2D, Conv2DTranspose, BatchNormalization, Reshape, LeakyReLU, Activation"
   ]
  },
  {
   "cell_type": "code",
   "execution_count": null,
   "metadata": {},
   "outputs": [],
   "source": [
    "image_ids = glob.glob('celeb/*')[:10000]"
   ]
  },
  {
   "cell_type": "code",
   "execution_count": null,
   "metadata": {},
   "outputs": [],
   "source": [
    "def get_generator():\n",
    "\n",
    "    inp = Input((512,))\n",
    "        \n",
    "    x = Dense(8192)(inp)\n",
    "    x = Reshape((4,4,512))(x)\n",
    "    x = BatchNormalization()(x)\n",
    "    x = LeakyReLU(0.2)(x)\n",
    "        \n",
    "    x = Conv2DTranspose(256, kernel_size=5, strides=2, padding='same')(x)\n",
    "    x = BatchNormalization()(x)        \n",
    "    x = LeakyReLU(0.2)(x)        \n",
    "    \n",
    "    x = Conv2DTranspose(128, kernel_size=5, strides=2, padding='same')(x)\n",
    "    x = BatchNormalization()(x)        \n",
    "    x = LeakyReLU(0.2)(x)\n",
    "    \n",
    "    x = Conv2DTranspose(64, kernel_size=5, strides=2, padding='same')(x)\n",
    "    x = BatchNormalization()(x)        \n",
    "    x = LeakyReLU(0.2)(x)   \n",
    "        \n",
    "    x = Conv2DTranspose(3, kernel_size=5, strides=2, padding='same')(x)\n",
    "    out = Activation('tanh')(x)\n",
    "        \n",
    "    model = Model(inp, out)    \n",
    "        \n",
    "    return model"
   ]
  },
  {
   "cell_type": "code",
   "execution_count": null,
   "metadata": {},
   "outputs": [],
   "source": [
    "def get_discriminator():    \n",
    "    \n",
    "    inp = Input((64,64,3))\n",
    "\n",
    "    x = Conv2D(28, kernel_size=5, strides=2, padding='same')(inp)\n",
    "    x = LeakyReLU(0.2)(x)\n",
    "\n",
    "    x = Conv2D(64, kernel_size=5, strides=2, padding='same')(x)\n",
    "    x = BatchNormalization()(x)\n",
    "    x = LeakyReLU(0.2)(x)\n",
    "\n",
    "    x = Conv2D(128, kernel_size=5, strides=2, padding='same')(x)\n",
    "    x = BatchNormalization()(x)\n",
    "    x = LeakyReLU(0.2)(x)\n",
    "    \n",
    "    x = Conv2D(256, kernel_size=5, strides=2, padding='same')(x)\n",
    "    x = BatchNormalization()(x)\n",
    "    x = LeakyReLU(0.2)(x)\n",
    "    \n",
    "    x = Reshape((4096,))(x)\n",
    "    x = Dense(1)(x)\n",
    "    out = Activation('sigmoid')(x)\n",
    "    \n",
    "    model = Model(inp, out)    \n",
    "        \n",
    "    return model"
   ]
  },
  {
   "cell_type": "code",
   "execution_count": null,
   "metadata": {},
   "outputs": [],
   "source": [
    "def get_images(batch=64):\n",
    "\n",
    "    crop = (30, 55, 150, 175)\n",
    "    batch_ids = np.random.choice(image_ids, batch)\n",
    "    images = [np.array((Image.open(i).crop(crop)).resize((64,64))) for i in batch_ids]\n",
    "    images = np.array(images)\n",
    "    images = images/255\n",
    "    images = images-0.5\n",
    "    \n",
    "    return np.array(images)"
   ]
  },
  {
   "cell_type": "code",
   "execution_count": null,
   "metadata": {},
   "outputs": [],
   "source": [
    "def train(batch, epochs):\n",
    "    \n",
    "    generator = get_generator()\n",
    "    discriminator = get_discriminator()\n",
    "\n",
    "    adam_generator = keras.optimizers.Adam(lr=0.0002, beta_1=0.5)\n",
    "    adam_discriminator = keras.optimizers.Adam(lr=0.0002, beta_1=0.5)\n",
    "\n",
    "    discriminator.compile(loss='binary_crossentropy', optimizer=adam_discriminator, metrics=['accuracy'])\n",
    "    generator.compile(loss='binary_crossentropy', optimizer=adam_generator, metrics=['accuracy'])  \n",
    "    \n",
    "    noise = Input((512,))\n",
    "    z = discriminator(generator(noise))\n",
    "    discriminator.trainable = False\n",
    "    combined = Model(noise, z)\n",
    "    combined.compile(loss='binary_crossentropy', optimizer=adam_generator, metrics=['accuracy'])\n",
    "    discriminator.trainable = True\n",
    "\n",
    "    print_every = 50\n",
    "    no_batch = 1000//batch\n",
    "\n",
    "    for e in range(epochs): \n",
    "    \n",
    "        for i in range(no_batch):\n",
    "            \n",
    "            noise = np.random.uniform(-1, 1, size=(batch, 512))\n",
    "            real_images = get_images(batch)\n",
    "            fake_images = generator.predict(noise)\n",
    "            \n",
    "            images = np.concatenate((real_images, fake_images))\n",
    "            labels = np.concatenate((np.ones((batch,1)), np.zeros((batch,1))))\n",
    "        \n",
    "            discriminator.train_on_batch(images, labels)\n",
    "            discriminator.trainable = False    \n",
    "            combined.train_on_batch(noise, np.ones((batch,1)))\n",
    "            discriminator.trainable = True\n",
    "            \n",
    "            if i%print_every == 0:\n",
    "                print(\"epochs: %d/%d batchs: %d/%d\" %((e+1),epochs,(i+1),no_batch))"
   ]
  },
  {
   "cell_type": "code",
   "execution_count": null,
   "metadata": {
    "scrolled": true
   },
   "outputs": [],
   "source": [
    "train(50, 1)\n",
    "a = generator.predict(np.random.uniform(-1, 1, size=(1, 512)))\n",
    "plt.imshow((a[0]+0.5)*255)"
   ]
  }
 ],
 "metadata": {
  "kernelspec": {
   "display_name": "Python 3",
   "language": "python",
   "name": "python3"
  },
  "language_info": {
   "codemirror_mode": {
    "name": "ipython",
    "version": 3
   },
   "file_extension": ".py",
   "mimetype": "text/x-python",
   "name": "python",
   "nbconvert_exporter": "python",
   "pygments_lexer": "ipython3",
   "version": "3.7.7"
  }
 },
 "nbformat": 4,
 "nbformat_minor": 2
}
